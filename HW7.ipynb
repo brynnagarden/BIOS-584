{
 "cells": [
  {
   "cell_type": "markdown",
   "id": "2dbb0214-e57a-4213-8330-b3665e1314bf",
   "metadata": {},
   "source": [
    "# HW7 (20')\n",
    "\n",
    "<font size='4'>\n",
    "    \n",
    "Please submit your assignment as an HTML or PDF file.\n",
    "\n",
    "Print your name (First and Last) below."
   ]
  },
  {
   "cell_type": "code",
   "execution_count": 1,
   "id": "24e0f135-b486-4297-9d35-a64ecff96103",
   "metadata": {
    "ExecuteTime": {
     "end_time": "2025-10-13T15:40:46.863766Z",
     "start_time": "2025-10-13T15:40:46.852660Z"
    }
   },
   "outputs": [
    {
     "name": "stdout",
     "output_type": "stream",
     "text": [
      "Brynna Garden\n"
     ]
    }
   ],
   "source": [
    "print('Brynna Garden')"
   ]
  },
  {
   "cell_type": "markdown",
   "id": "070c414e-3b3a-4a2b-99ee-dad2fd7aefbd",
   "metadata": {},
   "source": [
    "## General Remarks\n",
    "\n",
    "<font size='4'>\n",
    "\n",
    "- In this HW, you will start to **write your own functions** to achieve a specific task.\n",
    "- The prompt to HW is **no longer specific** to each step. \n",
    "- I only describe the purpose of the task and provide an empty placeholder for each function. <br>\n",
    "- It is your own responsibility to decompose the task and fill in the body of the function. <br>\n",
    "- You will have one dataset to test.\n",
    "- You only work on code sections starting with `Write youw own code`.\n",
    "- Feel free to ask me questions or stop by OH. I am sure you will!"
   ]
  },
  {
   "cell_type": "markdown",
   "id": "1929bdda-e450-4914-9aa5-afab6d75e0f7",
   "metadata": {},
   "source": [
    "## Background on the study and dataset\n",
    "\n",
    "<font size='4'>\n",
    "    \n",
    "- I studied statistical methodology on EEG with applications to Brain-Computer Interfaces as my dissertation topic.\n",
    "- The particular modality is P300 Event-Related Response (ERP) based Brain-Computer Interface (BCI).\n",
    "- This is used for ordinary communications when users cannot type words due to a physical disability, such as ALS or stroke.\n",
    "- Users are asked to wear an EEG cap, sit in front of a virtual screen, and respond to the stimuli on the virtual screen.\n",
    "    - <img src=\"figures/p300-eeg-bci-illustration.jpg\" alt=\"drawing\" width=\"800\"/>\n",
    "    - YouTube Link: https://www.youtube.com/watch?v=XIr2cRKFolY&t=1s (Data collection starts from 2:16).\n",
    "- The biological mechanism is that when the human brain is exposed to a relevant but rare external stimuli, the brain elicits a so-called (target) P300 ERP that can be captured via the EEG recording, otherwise, when the human brain is exposued to a irrelevant (but regular) external stimuli, the brain does not elicit this P300 ERP. To simplify, we call it an non-target P300 ERP.\n",
    "- The conventional framework is shown\n",
    "    - <img src=\"figures/bci_conventional_framework.png\" alt=\"drawing\" width=\"800\"/>\n",
    "    - The statistical problem is simply a **binary classification** problem.\n",
    "- The resulting dataset contains a truncated EEG signal matrix of which dimension is (3420, 400) and labeled vector of which dimension is (3420, 1) telling whether it is a target or non-target stimuli.\n",
    "    - <img src=\"figures/eeg_signal_data_structure.png\" alt=\"drawing\" width=\"800\"/>\n",
    "    - Here, 3420 refers to the total number of stimuli, while 400 is the total feature length.\n",
    "    - The truncated dataset has 16 electrode, and each electrode has a 25 time points corresponding to the first 800 ms after each stimulus.\n",
    "    - <img src=\"figures/electrode_location.png\" alt=\"drawing\" width=\"400\"/>\n",
    "- In HW 7, you are going to **validate the signal component between target and non-target ERPs**, which is an important descriptive step right after signal processing and feature extraction. In later HWs, you will have the chance to explicitly perform signal processing and feature extraction, perform binary classification tasks using various ML methods, and convert them into character-level probability calculation."
   ]
  },
  {
   "cell_type": "code",
   "execution_count": 2,
   "id": "1f865ddc-c66d-47b0-82e7-e654fa6ca536",
   "metadata": {
    "ExecuteTime": {
     "end_time": "2025-10-13T15:40:46.898829Z",
     "start_time": "2025-10-13T15:40:46.894114Z"
    }
   },
   "outputs": [],
   "source": [
    "# import relevant packages\n",
    "import os\n",
    "import numpy as np\n",
    "import scipy.io as sio # This will be used to load an MATLAB file\n",
    "import matplotlib.pyplot as plt\n",
    "import matplotlib.backends.backend_pdf as bpdf # This will be used to create a PDF to store multiple plots in the same file\n",
    "# You may not use this function for HW7, but when we start to move everything to .py file, you will use it."
   ]
  },
  {
   "cell_type": "markdown",
   "id": "9ea25364-8d4b-4244-a3b9-5e3a5392f007",
   "metadata": {},
   "source": [
    "## Global constants and parent directory (1')\n",
    "\n",
    "<font size='4'>\n",
    "\n",
    "- You do not need to modify the global parameters.\n",
    "- You need to change your parent directory to your own, preferably `.../GitHub/BIOS-584`.\n",
    "- If you **fetch origins**, you will find a dataset called `K114_001_BCI_TRN_Truncated_Data_0.5_6.mat` under the `data` folder."
   ]
  },
  {
   "cell_type": "code",
   "execution_count": 3,
   "id": "d7ec86bd-3c34-46b0-b47e-ec04c8f48ddf",
   "metadata": {
    "ExecuteTime": {
     "end_time": "2025-10-13T15:40:46.978191Z",
     "start_time": "2025-10-13T15:40:46.969614Z"
    }
   },
   "outputs": [],
   "source": [
    "bp_low = 0.5\n",
    "bp_upp = 6\n",
    "electrode_num = 16\n",
    "electrode_name_ls = ['F3', 'Fz', 'F4', 'T7', 'C3', 'Cz', 'C4', 'T8', 'CP3', 'CP4', 'P3', 'Pz', 'P4', 'PO7', 'PO8', 'Oz']\n",
    "\n",
    "parent_dir = '/Users/tma33/Library/CloudStorage/OneDrive-EmoryUniversity/Emory/Rollins SPH/2025/BIOS-584/python_proj'\n",
    "parent_data_dir = '{}/data'.format(parent_dir)\n",
    "time_index = np.linspace(0, 800, 25) # This is a hypothetic time range up to 800 ms after each stimulus.\n",
    "\n",
    "subject_name = 'K114'\n",
    "session_name = '001_BCI_TRN'"
   ]
  },
  {
   "cell_type": "markdown",
   "id": "d2dfca23-3aa4-4aa9-950d-1cd5b532d97e",
   "metadata": {},
   "source": [
    "<font size='4'>\n",
    "\n",
    "- Use `os.mkdir()` and `os.path.exists()` to create a new folder called `subject_name` under your `parent_dir`.\n",
    "- Make sure to use `if` to check whether the proposed directory exists because Python will yield an error if so.\n",
    "- For HW7, you do not have to export anything outside Jupyter notebook. That will be your HW8.\n",
    "- But You should still create a new directory below. (1')"
   ]
  },
  {
   "cell_type": "code",
   "execution_count": 4,
   "id": "268c6de5-c473-4543-8a4c-3b15822742ba",
   "metadata": {
    "ExecuteTime": {
     "end_time": "2025-10-13T15:40:47.009748Z",
     "start_time": "2025-10-13T15:40:47.005867Z"
    }
   },
   "outputs": [
    {
     "name": "stdout",
     "output_type": "stream",
     "text": [
      "/Users/brynnagarden/Documents/GitHub/BIOS-584\n",
      "/Users/brynnagarden/Documents/GitHub/BIOS-584/data/hw7\n"
     ]
    }
   ],
   "source": [
    "# Write your own code:\n",
    "#Seeing data path\n",
    "parent_dir = os.getcwd()\n",
    "print(parent_dir)\n",
    "#Creating new folder called subject_name under partner_dir\n",
    "subject_name = \"{}/data/hw7\".format(parent_dir)\n",
    "#Making sure to use if to check whether the proposed directory exists\n",
    "if not os.path.exists(subject_name):\n",
    "    os.mkdir(subject_name)\n",
    "print(subject_name) #It worked!"
   ]
  },
  {
   "cell_type": "markdown",
   "id": "a872f18a-29fa-4585-8273-96f486869e90",
   "metadata": {},
   "source": [
    "## Load the MATLAB .mat file (4')\n",
    "\n",
    "<font size='4'>\n",
    "\n",
    "- Use `sio.loadmat()` function to load the dataset and rename it as `eeg_trunc_obj`. (1')"
   ]
  },
  {
   "cell_type": "code",
   "execution_count": 5,
   "id": "fdc087d5-45a2-435b-9bca-8fc29be03af7",
   "metadata": {
    "ExecuteTime": {
     "end_time": "2025-10-13T15:40:47.029858Z",
     "start_time": "2025-10-13T15:40:47.026479Z"
    }
   },
   "outputs": [
    {
     "name": "stdout",
     "output_type": "stream",
     "text": [
      "{'__header__': b'MATLAB 5.0 MAT-file, Platform: GLNXA64, Created on: Wed Jun 22 18:05:34 2022', '__version__': '1.0', '__globals__': [], 'Code': array([[ 1],\n",
      "       [10],\n",
      "       [11],\n",
      "       ...,\n",
      "       [ 3],\n",
      "       [ 6],\n",
      "       [ 5]], dtype=uint8), 'IndexBegin': array([[  154],\n",
      "       [  159],\n",
      "       [  164],\n",
      "       ...,\n",
      "       [19255],\n",
      "       [19260],\n",
      "       [19265]], dtype=uint16), 'IndexTag': array([[  154],\n",
      "       [  159],\n",
      "       [  164],\n",
      "       ...,\n",
      "       [19255],\n",
      "       [19260],\n",
      "       [19265]], dtype=uint16), 'LetterTable': array([[array(['A'], dtype='<U1')],\n",
      "       [array(['B'], dtype='<U1')],\n",
      "       [array(['C'], dtype='<U1')],\n",
      "       [array(['D'], dtype='<U1')],\n",
      "       [array(['E'], dtype='<U1')],\n",
      "       [array(['F'], dtype='<U1')],\n",
      "       [array(['G'], dtype='<U1')],\n",
      "       [array(['H'], dtype='<U1')],\n",
      "       [array(['I'], dtype='<U1')],\n",
      "       [array(['J'], dtype='<U1')],\n",
      "       [array(['K'], dtype='<U1')],\n",
      "       [array(['L'], dtype='<U1')],\n",
      "       [array(['M'], dtype='<U1')],\n",
      "       [array(['N'], dtype='<U1')],\n",
      "       [array(['O'], dtype='<U1')],\n",
      "       [array(['P'], dtype='<U1')],\n",
      "       [array(['Q'], dtype='<U1')],\n",
      "       [array(['R'], dtype='<U1')],\n",
      "       [array(['S'], dtype='<U1')],\n",
      "       [array(['T'], dtype='<U1')],\n",
      "       [array(['U'], dtype='<U1')],\n",
      "       [array(['V'], dtype='<U1')],\n",
      "       [array(['W'], dtype='<U1')],\n",
      "       [array(['X'], dtype='<U1')],\n",
      "       [array(['Y'], dtype='<U1')],\n",
      "       [array(['Z'], dtype='<U1')],\n",
      "       [array(['1'], dtype='<U1')],\n",
      "       [array(['2'], dtype='<U1')],\n",
      "       [array(['3'], dtype='<U1')],\n",
      "       [array(['4'], dtype='<U1')],\n",
      "       [array(['5'], dtype='<U1')],\n",
      "       [array(['6'], dtype='<U1')],\n",
      "       [array(['7'], dtype='<U1')],\n",
      "       [array(['8'], dtype='<U1')],\n",
      "       [array(['9'], dtype='<U1')],\n",
      "       [array(['SPACE'], dtype='<U5')]], dtype=object), 'Signal': array([[-2.45388644,  4.83712612, 19.52056856, ..., -3.79484713,\n",
      "        -6.51147972, -6.92876195],\n",
      "       [22.21515831,  4.10558851, -6.57768564, ..., -1.59132914,\n",
      "        -1.69816731,  0.29884203],\n",
      "       [12.67488685,  9.55995046,  0.63416453, ..., 17.33485164,\n",
      "        13.39231   ,  3.27156578],\n",
      "       ...,\n",
      "       [ 8.95868255,  7.51063858,  3.97578439, ..., -2.53544162,\n",
      "        -3.15214612, -1.27012183],\n",
      "       [ 3.28761648,  7.16471777, 11.08150174, ...,  2.56755517,\n",
      "         1.67478701,  2.142714  ],\n",
      "       [14.15006603,  6.59913652, -4.92651095, ...,  6.30047564,\n",
      "         5.37143883,  4.04876798]]), 'Text': array([[array(['T'], dtype='<U1')],\n",
      "       [array(['H'], dtype='<U1')],\n",
      "       [array(['E'], dtype='<U1')],\n",
      "       [array([' '], dtype='<U1')],\n",
      "       [array(['Q'], dtype='<U1')],\n",
      "       [array(['U'], dtype='<U1')],\n",
      "       [array(['I'], dtype='<U1')],\n",
      "       [array(['C'], dtype='<U1')],\n",
      "       [array(['K'], dtype='<U1')],\n",
      "       [array([' '], dtype='<U1')],\n",
      "       [array(['B'], dtype='<U1')],\n",
      "       [array(['R'], dtype='<U1')],\n",
      "       [array(['O'], dtype='<U1')],\n",
      "       [array(['W'], dtype='<U1')],\n",
      "       [array(['N'], dtype='<U1')],\n",
      "       [array([' '], dtype='<U1')],\n",
      "       [array(['F'], dtype='<U1')],\n",
      "       [array(['O'], dtype='<U1')],\n",
      "       [array(['X'], dtype='<U1')]], dtype=object), 'Type': array([[-1],\n",
      "       [-1],\n",
      "       [-1],\n",
      "       ...,\n",
      "       [-1],\n",
      "       [-1],\n",
      "       [-1]], dtype=int16)}\n"
     ]
    }
   ],
   "source": [
    "# Write your own code:\n",
    "#Creating data path to follow to read in the dataset\n",
    "dataset_path = '/Users/brynnagarden/Documents/GitHub/BIOS-584/data/K114_001_BCI_TRN_Truncated_Data_0.5_6.mat'\n",
    "#Loading in dataset and renaming it to eeg_trunc_obj\n",
    "eeg_trunc_obj = sio.loadmat(dataset_path)\n",
    "print(eeg_trunc_obj) #Making sure it worked"
   ]
  },
  {
   "cell_type": "markdown",
   "id": "de0b2fa7-5876-4f6f-befa-1c74bd1cdd55",
   "metadata": {},
   "source": [
    "<font size='4'>\n",
    "\n",
    "- Although we haven't covered `dict` data type yet, you have the chance to use it in practice.\n",
    "- Print out `eeg_trunc_obj.keys()` and find the name `Signal` and `Type`. Those are the only two things we will use for HW7. (1')\n",
    "- We extract information from `dict` using the syntax `variable_name = dict_obj['key_name']`.\n",
    "- Rename the variable associated with `Signal` to `eeg_trunc_signal` and `Type` as `eeg_trunc_type`. (1')\n",
    "- Print out their shapes respectively. For `eeg_trunc_type`, use `np.squeeze()` to convert it to a 1d-array. Make sure to spell out the correct `axis` parameter.\n",
    "- What does `eeg_trunc_type` contain? (1')"
   ]
  },
  {
   "cell_type": "code",
   "execution_count": 6,
   "id": "4bc2e410-53f3-4f85-b584-9b0c92ccc063",
   "metadata": {
    "ExecuteTime": {
     "end_time": "2025-10-13T15:40:47.048571Z",
     "start_time": "2025-10-13T15:40:47.045078Z"
    }
   },
   "outputs": [
    {
     "name": "stdout",
     "output_type": "stream",
     "text": [
      "dict_keys(['__header__', '__version__', '__globals__', 'Code', 'IndexBegin', 'IndexTag', 'LetterTable', 'Signal', 'Text', 'Type'])\n",
      "(3420, 400)\n",
      "(3420, 1)\n",
      "(3420,)\n",
      "[-1 -1 -1 -1 -1 -1 -1  1  1 -1]\n"
     ]
    }
   ],
   "source": [
    "# Write your own code:\n",
    "#Printing out eeg_trunc_obj.keys() to find Signal and Type\n",
    "print(eeg_trunc_obj.keys())\n",
    "#Renaming variables with Signal to eeg_trunc_signal and Type as eeg_trunc_type\n",
    "eeg_trunc_signal = eeg_trunc_obj['Signal']\n",
    "eeg_trunc_type = eeg_trunc_obj['Type']\n",
    "#Printing out their shapes respectively\n",
    "print(eeg_trunc_signal.shape)\n",
    "print(eeg_trunc_type.shape)\n",
    "#Converting eeg_trunc_type to a 1d-array\n",
    "eeg_trunc_type = np.squeeze(eeg_trunc_type, axis=-1)\n",
    "#Printing out shape after the squeeze\n",
    "print(eeg_trunc_type.shape)\n",
    "#Looking at the first 10 of eeg_trunc_type\n",
    "print(eeg_trunc_type[:10])\n",
    "#Q: What does eeg_trunc_type contain? \n",
    "#A: eeg_trunc_type contains a 1D array of integers that categorize each time point of the EEG signal as a target (1) or non-target (-1) stimuli"
   ]
  },
  {
   "cell_type": "markdown",
   "id": "cb9dbfdf-d186-48ef-b36c-6b4c0afb468e",
   "metadata": {},
   "source": [
    "## Write a function to compute type-specific sample mean and sample covariance (4')\n",
    "\n",
    "<font size='4'>\n",
    "\n",
    "- If you look at the individual signal segment, you cannot find anything interesting because the useful P300 ERP is overwhelmed in the noise.\n",
    "- However, if you select all signals associated with target ERPs (i.e., `eeg_trunc_type == 1`) and take the average, you will find a clear pattern. Similarly do it for non-target ERPs.\n",
    "- Please write a function called `produce_trunc_mean_cov` that takes the three parameters and output a list of five elements as follows:\n",
    "- Make sure the dimensions of output arrays match with my description."
   ]
  },
  {
   "cell_type": "code",
   "execution_count": 33,
   "id": "00ac6847-0a3c-4e62-b4f0-e2f385ddd634",
   "metadata": {
    "ExecuteTime": {
     "end_time": "2025-10-13T15:40:47.076009Z",
     "start_time": "2025-10-13T15:40:47.071075Z"
    }
   },
   "outputs": [],
   "source": [
    "# Write your own code:\n",
    "# Note to myself: keep r\"\"\" \"\"\" from the function. \n",
    "    r\"\"\"\n",
    "    args:\n",
    "    -----\n",
    "        input_signal: 2d-array, (sample_size_len, feature_len)\n",
    "        input_type: 1d-array, (sample_size_len,)\n",
    "        E_val: integer, (number of electrodes)\n",
    "    return:\n",
    "    -----\n",
    "        A list of 5 arrays including\n",
    "            signal_tar_mean, (E_val, length_per_electrode)\n",
    "            signal_ntar_mean, (E_val, length_per_electrode)\n",
    "            signal_tar_cov, (E_val, length_per_electrode, length_per_electrode)\n",
    "            signal_ntar_cov, (E_val, length_per_electrode, length_per_electrode)\n",
    "            signal_all_cov, (E_val, length_per_electrode, length_per_electrode)\n",
    "    note:\n",
    "    -----\n",
    "        descriptive mean and sample covariance statistics from real data\n",
    "        In this case, E_val=16, length_per_electrode=25. \n",
    "        But you should pass them as arguments or calculate them inside the function.\n",
    "    \"\"\"\n",
    "def produce_trun_mean_cov(input_signal, input_type, E_val):\n",
    "    sample_size_len, feature_len = input_signal.shape\n",
    "    sample_size_len = input_type.shape\n",
    "    number_of_electrodes = E_val.int\n",
    "\n",
    "    #Initailizing lists to store e_val & length_per_electrode\n",
    "    signal_tar_mean_ls = []\n",
    "    signal_ntar_mean_ls = []\n",
    "    signal_tar_cov_ls = []\n",
    "    signal_ntar_cov_ls = []\n",
    "    signal_all_cov_ls = []\n",
    "\n",
    "    #Converting lists to arrays \n",
    "    signal_tar_mean = np.array(signal_tar_mean_ls)\n",
    "    signal_ntar_mean = np.array(signal_ntar_mean_ls)\n",
    "    signal_tar_cov = np.array(signal_tar_cov_ls)\n",
    "    signal_ntar_cov = np.array(signal_ntar_cov_ls)\n",
    "    signal_all_cov = np.array(signal_all_cov_ls)\n",
    "\n",
    "    return [signal_tar_mean, signal_ntar_mean, signal_tar_cov, signal_ntar_cov, signal_all_cov]"
   ]
  },
  {
   "cell_type": "markdown",
   "id": "e1253586-f531-40c0-a412-b36a4ea0aba5",
   "metadata": {},
   "source": [
    "## Write a function to plot sample means (3') and sample covariances (3')\n",
    "\n",
    "<font size='4'>\n",
    "\n",
    "- After you extract the sample mean and sample covariance, you can visualize those to gain a better understanding.\n",
    "- You will write two functions to visualize the sample mean (`plot_trunc_mean`) and sample covariance (`plot_trunc_cov`).\n",
    "\n",
    "For sample mean:\n",
    "- You are going to have 16 plots and put them into a 4x4 grid such that channels F3, C3, CP3, and P4 show up on the first, second, third, and fourth row, but all within the first column.\n",
    "- In each subplot, you are going to plot target sample mean and non-target sample mean simulatenously and label them `Target` and `Non-Target` respectively.\n",
    "- Use red for target sample mean and blue for non-target sample mean.\n",
    "- Add `Time (ms)` to the label of x-axis, `Amplitude (muV)` to the label of y-axis for each subplot.\n",
    "- Add the channel name to the title for each sub plot (Use `electrode_name_ls`)\n",
    "- Add a subject name to the super title (shown on the top of the entire 4x4 grid).\n",
    "- Display the final plot."
   ]
  },
  {
   "cell_type": "code",
   "execution_count": 22,
   "id": "09e8166f-95b4-4a99-9c3e-53284430fdb7",
   "metadata": {
    "ExecuteTime": {
     "end_time": "2025-10-13T15:40:47.157774Z",
     "start_time": "2025-10-13T15:40:47.149869Z"
    }
   },
   "outputs": [],
   "source": [
    "def plot_trunc_mean(\n",
    "        eeg_tar_mean, eeg_ntar_mean, subject_name, time_index, E_val, electrode_name_ls,\n",
    "        y_limit=np.array([-5, 8]), fig_size=(12, 12)\n",
    "):\n",
    "    r\"\"\"\n",
    "    :param eeg_tar_mean:\n",
    "    :param eeg_ntar_mean:\n",
    "    :param subject_name:\n",
    "    :param time_index:\n",
    "    :param E_val:\n",
    "    :param electrode_name_ls:\n",
    "    :param y_limit: optional parameter, a list or an array of two numbers\n",
    "    :param fig_size: optional parameter, a tuple of two numbers\n",
    "    :return:\n",
    "    \"\"\"\n",
    "    pass"
   ]
  },
  {
   "cell_type": "markdown",
   "id": "f59e51af-4c18-4f7f-99ba-0c64ccad709a",
   "metadata": {},
   "source": [
    "<font size='4'>\n",
    "For sample covariance:\n",
    "\n",
    "- You also put 16 electrode-specific covariance plots and squeeze them into a 4x4 grid such that channels F3, C3, CP3, and P4 show up on the first, second, third, and fourth row, but all within the first column.\n",
    "- You save **three** plots, **one for target signals, one for non-target, and one for all**.\n",
    "- Use `np.meshgrid` and `plt.contourf()` to generate the plot. You are welcome to use other function. You can use whatever color palette but make sure to mark the color bar.\n",
    "- For x-axis, the time index should increase from left to right, while for y-axis, the time index should increase from top to bottom.\n",
    "- Add `Time (ms)` to the label of x- and y-axes.\n",
    "- Add channel name to the title of each subplot.\n",
    "- Add `Target`, `Non-target`, or `All` to the super title of each plot.\n",
    "- Display the final three plots."
   ]
  },
  {
   "cell_type": "code",
   "execution_count": 23,
   "id": "73ef11de-5fa6-4664-bfa1-ba040d7e3ef9",
   "metadata": {
    "ExecuteTime": {
     "end_time": "2025-10-13T15:40:47.195183Z",
     "start_time": "2025-10-13T15:40:47.189113Z"
    }
   },
   "outputs": [],
   "source": [
    "def plot_trunc_cov(\n",
    "        eeg_cov, cov_type, time_index, subject_name, E_val, electrode_name_ls, fig_size=(14,12)\n",
    "):\n",
    "    pass"
   ]
  },
  {
   "cell_type": "markdown",
   "id": "8131dd4f-f285-4a59-a6c4-e3f6ac6ad2d5",
   "metadata": {},
   "source": [
    "## Call your function and apply it to a particular participant K114. (5')"
   ]
  },
  {
   "cell_type": "code",
   "execution_count": 24,
   "id": "d42e8aff-df87-4baa-8780-1059a46d534e",
   "metadata": {
    "ExecuteTime": {
     "end_time": "2025-10-13T15:40:47.211994Z",
     "start_time": "2025-10-13T15:40:47.207104Z"
    }
   },
   "outputs": [
    {
     "data": {
      "text/plain": [
       "'\\nyour output = produce_trun_mean_cov(your input)\\n'"
      ]
     },
     "execution_count": 24,
     "metadata": {},
     "output_type": "execute_result"
    }
   ],
   "source": [
    "# Write your own code: (only call produce_trun_mean_cov in this code section)\n",
    "'''\n",
    "your output = produce_trun_mean_cov(your input)\n",
    "'''"
   ]
  },
  {
   "cell_type": "code",
   "execution_count": 25,
   "id": "727575d8-0a2d-47fb-bfad-36c81c19b504",
   "metadata": {
    "ExecuteTime": {
     "end_time": "2025-10-13T15:40:47.281532Z",
     "start_time": "2025-10-13T15:40:47.277200Z"
    }
   },
   "outputs": [],
   "source": [
    "# Write your own code: (only call plot_trunc_mean in this code section)\n"
   ]
  },
  {
   "cell_type": "code",
   "execution_count": 26,
   "id": "59af278e-07a7-4a22-b151-5c305f8822a0",
   "metadata": {
    "ExecuteTime": {
     "end_time": "2025-10-13T15:40:47.300129Z",
     "start_time": "2025-10-13T15:40:47.297003Z"
    }
   },
   "outputs": [],
   "source": [
    "# Write your own code: call plot_trunc_cov for target covariance only\n"
   ]
  },
  {
   "cell_type": "code",
   "execution_count": 27,
   "id": "25cf75bd-d07d-40c2-8963-553078da4bbc",
   "metadata": {
    "ExecuteTime": {
     "end_time": "2025-10-13T15:40:47.317231Z",
     "start_time": "2025-10-13T15:40:47.314587Z"
    }
   },
   "outputs": [],
   "source": [
    "# Write your own code: call plot_trunc_cov for non-target covariance only\n"
   ]
  },
  {
   "cell_type": "code",
   "execution_count": 28,
   "id": "94dc75ae-675e-4e17-92d1-1f241052fedc",
   "metadata": {
    "ExecuteTime": {
     "end_time": "2025-10-13T15:40:47.334608Z",
     "start_time": "2025-10-13T15:40:47.332403Z"
    }
   },
   "outputs": [],
   "source": [
    "# Write your own code: call plot_trunc_cov for all covariance only\n"
   ]
  }
 ],
 "metadata": {
  "kernelspec": {
   "display_name": "Python 3 (ipykernel)",
   "language": "python",
   "name": "python3"
  },
  "language_info": {
   "codemirror_mode": {
    "name": "ipython",
    "version": 3
   },
   "file_extension": ".py",
   "mimetype": "text/x-python",
   "name": "python",
   "nbconvert_exporter": "python",
   "pygments_lexer": "ipython3",
   "version": "3.9.6"
  }
 },
 "nbformat": 4,
 "nbformat_minor": 5
}
